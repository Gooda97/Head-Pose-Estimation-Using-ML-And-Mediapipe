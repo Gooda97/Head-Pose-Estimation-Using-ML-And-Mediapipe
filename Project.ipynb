{
  "cells": [
    {
      "attachments": {},
      "cell_type": "markdown",
      "metadata": {},
      "source": [
        "# Import necessary libraries"
      ]
    },
    {
      "cell_type": "code",
      "execution_count": 1,
      "metadata": {
        "id": "JMD9H2caAyos"
      },
      "outputs": [],
      "source": [
        "import numpy as np\n",
        "import os\n",
        "import cv2\n",
        "import scipy.io as sio\n",
        "from math import cos, sin\n",
        "import pandas as pd\n",
        "import mediapipe\n",
        "import warnings\n",
        "import os\n",
        "from sklearn.model_selection import train_test_split\n",
        "import shutil\n",
        "from sklearn.multioutput import MultiOutputRegressor\n",
        "from sklearn.metrics import mean_absolute_error\n",
        "from sklearn.linear_model import Ridge\n",
        "from sklearn.svm import SVR\n",
        "from sklearn.preprocessing import MinMaxScaler   \n",
        "from joblib import dump, load\n",
        "\n",
        "warnings.filterwarnings('ignore')"
      ]
    },
    {
      "attachments": {},
      "cell_type": "markdown",
      "metadata": {},
      "source": [
        "# Define the working passes"
      ]
    },
    {
      "cell_type": "code",
      "execution_count": 2,
      "metadata": {},
      "outputs": [],
      "source": [
        "main_path= r\"AFLW2000\"\n",
        "train_path= \"train1\"\n",
        "test_path= \"test1\""
      ]
    },
    {
      "attachments": {},
      "cell_type": "markdown",
      "metadata": {},
      "source": [
        "# Auxilary functions"
      ]
    },
    {
      "attachments": {},
      "cell_type": "markdown",
      "metadata": {},
      "source": [
        "### Draw the axes of the angles over an image"
      ]
    },
    {
      "cell_type": "code",
      "execution_count": 16,
      "metadata": {
        "id": "oZVe65YyFJdF"
      },
      "outputs": [],
      "source": [
        "def draw_axis(img, pred, tdx=None, tdy=None, size = 100):\n",
        "    if pred is not None:\n",
        "        height, width = img.shape[:2]\n",
        "        pred[1] = -pred[1]\n",
        "        if tdx != None and tdy != None:\n",
        "            tdx = tdx\n",
        "            tdy = tdy\n",
        "        else:\n",
        "            tdx = width / 2\n",
        "            tdy = height / 2\n",
        "\n",
        "        # X-Axis pointing to right. drawn in red\n",
        "        x1 = size * (cos(pred[1]) * cos(pred[2])) + tdx\n",
        "        y1 = size * (cos(pred[0]) * sin(pred[2]) + cos(pred[2]) * sin(pred[0]) * sin(pred[1])) + tdy\n",
        "\n",
        "        # Y-Axis | drawn in green\n",
        "        #        v\n",
        "        x2 = size * (-cos(pred[1]) * sin(pred[2])) + tdx\n",
        "        y2 = size * (cos(pred[0]) * cos(pred[2]) - sin(pred[0]) * sin(pred[1]) * sin(pred[2])) + tdy\n",
        "\n",
        "        # Z-Axis (out of the screen) drawn in blue\n",
        "        x3 = size * (sin(pred[1])) + tdx\n",
        "        y3 = size * (-cos(pred[1]) * sin(pred[0])) + tdy\n",
        "\n",
        "        cv2.line(img, (int(tdx), int(tdy)), (int(x1),int(y1)),(0,0,255),3)\n",
        "        cv2.line(img, (int(tdx), int(tdy)), (int(x2),int(y2)),(0,255,0),3)\n",
        "        cv2.line(img, (int(tdx), int(tdy)), (int(x3),int(y3)),(255,0,0),2)\n",
        "\n",
        "    return img"
      ]
    },
    {
      "attachments": {},
      "cell_type": "markdown",
      "metadata": {},
      "source": [
        "### Get the face mesh points out of an image"
      ]
    },
    {
      "cell_type": "code",
      "execution_count": 3,
      "metadata": {
        "colab": {
          "base_uri": "https://localhost:8080/",
          "height": 467
        },
        "id": "osmWTAzTBKE1",
        "outputId": "37144334-1293-44b2-9af3-93777ff8df46"
      },
      "outputs": [],
      "source": [
        "def get_mesh(img):\n",
        "    faceModule = mediapipe.solutions.face_mesh\n",
        "    # loading image and its correspinding mat file\n",
        "    with faceModule.FaceMesh(static_image_mode=True) as faces:\n",
        "        # processing the face to extract the landmark points (468 point) for each x,y,z\n",
        "        results = faces.process(cv2.cvtColor(img, cv2.COLOR_BGR2RGB))\n",
        "        if results.multi_face_landmarks != None: \n",
        "            return results.multi_face_landmarks"
      ]
    },
    {
      "attachments": {},
      "cell_type": "markdown",
      "metadata": {},
      "source": [
        "### Extract all the mesh points for each image in a given directory, then normalize them "
      ]
    },
    {
      "cell_type": "code",
      "execution_count": 7,
      "metadata": {},
      "outputs": [],
      "source": [
        "def get_mesh_of_dir(dir_path):\n",
        "    x= []\n",
        "    y= []\n",
        "    for img in os.listdir(dir_path):\n",
        "        if(img.endswith('jpg')):\n",
        "            image = cv2.imread(os.path.join(dir_path,img))\n",
        "            shape = image.shape\n",
        "            mesh= get_mesh(image)\n",
        "            if(mesh is not None):\n",
        "                x0= []\n",
        "                y0= []\n",
        "                for landmark in mesh[0].landmark:\n",
        "                    x0.append(int(landmark.x* shape[1]))\n",
        "                    y0.append(int(landmark.y* shape[0]))\n",
        "                \n",
        "                x.append(x0)\n",
        "                y.append(y0)\n",
        "            else:\n",
        "                os.remove(os.path.join(dir_path, img))\n",
        "                os.remove(os.path.join(dir_path, img[:-3]+'mat'))\n",
        "    \n",
        "    x= np.array(x)\n",
        "    print(x.shape)\n",
        "    y= np.array(y)\n",
        "    x_center = x - x[:,1].reshape(-1,1)\n",
        "    y_center = y - y[:,1].reshape(-1,1)\n",
        "\n",
        "    d = np.linalg.norm(np.array((x[:, 10],y[:, 10])) - np.array((x[:, 152],y[:, 152])),axis = 0).reshape(-1,1)\n",
        "    x = x_center / d\n",
        "    y = y_center / d\n",
        "    \n",
        "    return x, y\n"
      ]
    },
    {
      "attachments": {},
      "cell_type": "markdown",
      "metadata": {},
      "source": [
        "### Extract the angles from a matrix file in the dataset"
      ]
    },
    {
      "cell_type": "code",
      "execution_count": 5,
      "metadata": {
        "colab": {
          "base_uri": "https://localhost:8080/",
          "height": 467
        },
        "id": "Ic4NPKR4Etlt",
        "outputId": "d87dc620-d077-4841-a078-961d5e59ef5c"
      },
      "outputs": [],
      "source": [
        "def get_angles_from_mat(mat_path):\n",
        "    mat_file = sio.loadmat(mat_path)\n",
        "    pose_para = mat_file[\"Pose_Para\"][0][:3]\n",
        "    pitch = pose_para[0]      \n",
        "    yaw = pose_para[1]\n",
        "    roll = pose_para[2]\n",
        "    return [pitch, yaw, roll]"
      ]
    },
    {
      "attachments": {},
      "cell_type": "markdown",
      "metadata": {},
      "source": [
        "### Extract all angles from all the matrix files in the given directory"
      ]
    },
    {
      "cell_type": "code",
      "execution_count": 14,
      "metadata": {},
      "outputs": [],
      "source": [
        "def get_angles_from_dir(dir_path):\n",
        "    pitch= []\n",
        "    yaw= []\n",
        "    roll= []\n",
        "\n",
        "    for mat in os.listdir(dir_path):\n",
        "        if(mat.endswith('mat')):\n",
        "            angles= get_angles_from_mat(os.path.join(dir_path,mat))\n",
        "            pitch.append(angles[0])\n",
        "            yaw.append(angles[1])\n",
        "            roll.append(angles[2])\n",
        "    return pitch, yaw, roll"
      ]
    },
    {
      "attachments": {},
      "cell_type": "markdown",
      "metadata": {},
      "source": [
        "### Converts a list of x or y indices into a dataframe with the columns' names x1, x2, .. or y1,y2,.."
      ]
    },
    {
      "cell_type": "code",
      "execution_count": 4,
      "metadata": {},
      "outputs": [],
      "source": [
        "def make_feature(x, col):\n",
        "    max_length = max(len(sublist) for sublist in x)\n",
        "\n",
        "    x_df = pd.DataFrame(columns=range(max_length))\n",
        "\n",
        "    for i, sublist in enumerate(x):\n",
        "        if len(sublist) < max_length:\n",
        "            sublist += [None] * (max_length - len(sublist))\n",
        "        x_df.loc[i] = sublist\n",
        "    x_df.columns = [f'{col}{i+1}' for i in range(len(x_df.columns))]\n",
        "\n",
        "    return x_df"
      ]
    },
    {
      "attachments": {},
      "cell_type": "markdown",
      "metadata": {},
      "source": [
        "### Calls a model to make a prediction of the 3 angles (pitch, yaw, roll) and detect the nose point indices"
      ]
    },
    {
      "cell_type": "code",
      "execution_count": 5,
      "metadata": {},
      "outputs": [],
      "source": [
        "def predict(img_path=None, img=None):\n",
        "    # regressor= load('Ridge_model.joblib')\n",
        "    model= load('Ridge_model.joblib')\n",
        "    if(img_path!=None):\n",
        "        img = cv2.imread(img_path)\n",
        "    shape= img.shape\n",
        "    mesh= get_mesh(img)\n",
        "\n",
        "    x= []\n",
        "    y= []\n",
        "    nose= []\n",
        "    if(mesh is not None):\n",
        "        x0= []\n",
        "        y0= []\n",
        "\n",
        "        for landmark in mesh[0].landmark:\n",
        "            x0.append(landmark.x* shape[1])\n",
        "            y0.append(landmark.y* shape[0])\n",
        "\n",
        "        x.append(np.array(x0))\n",
        "        y.append(np.array(y0))\n",
        "\n",
        "        x= np.array(x)\n",
        "        y= np.array(y)\n",
        "\n",
        "        nose.append(x[:,1].reshape(-1,1))\n",
        "        nose.append(y[:,1].reshape(-1,1))\n",
        "        x_center = x - nose[0]\n",
        "        y_center = y - nose[1]\n",
        "\n",
        "        d = np.linalg.norm(np.array((x[:, 10],y[:, 10])) - np.array((x[:, 152],y[:, 152])),axis = 0).reshape(-1,1)\n",
        "        x = x_center / d\n",
        "        y = y_center / d\n",
        "        if x != [] and y != []:\n",
        "            x_df= make_feature(x, 'x')\n",
        "            y_df= make_feature(y, 'y')\n",
        "        else:\n",
        "            return None, None\n",
        "    pred= None\n",
        "    try:\n",
        "        x = pd.concat([x_df,y_df], axis= 1)\n",
        "        pred= model.predict(x)[0]\n",
        "    except:\n",
        "        print('.',end=\"\")\n",
        "        return None, [0,0]\n",
        "\n",
        "    return pred, np.array(nose).reshape(2,)"
      ]
    },
    {
      "attachments": {},
      "cell_type": "markdown",
      "metadata": {},
      "source": [
        "### Makes realtime predections on a live video that can be captured from your labtop camera"
      ]
    },
    {
      "cell_type": "code",
      "execution_count": 14,
      "metadata": {},
      "outputs": [],
      "source": [
        "def stream_predict():\n",
        "    cap = cv2.VideoCapture(0)\n",
        "\n",
        "    while True:\n",
        "        ret, frame = cap.read()\n",
        "        pred, nose= predict(img=frame)\n",
        "        if pred is not None:\n",
        "            frame= draw_axis(frame, pred, nose[0], nose[1])\n",
        "        \n",
        "        cv2.imshow('Video', frame)\n",
        "        \n",
        "        if cv2.waitKey(1) & 0xFF == ord('q'):\n",
        "            break\n",
        "\n",
        "    cap.release()\n",
        "    cv2.destroyAllWindows()"
      ]
    },
    {
      "attachments": {},
      "cell_type": "markdown",
      "metadata": {},
      "source": [
        "### Makes predections on a video passed to it"
      ]
    },
    {
      "cell_type": "code",
      "execution_count": 50,
      "metadata": {},
      "outputs": [],
      "source": [
        "def video_predict(vid_path):\n",
        "    cap = cv2.VideoCapture(vid_path)\n",
        "    width = int(cap.get(cv2.CAP_PROP_FRAME_WIDTH))\n",
        "    height = int(cap.get(cv2.CAP_PROP_FRAME_HEIGHT))\n",
        "    fourcc = cv2.VideoWriter_fourcc(*'DVIX')\n",
        "    out = cv2.VideoWriter(\"new video.mp4\", -1, 30.0, (width, height))\n",
        "    cv2.namedWindow(\"new Video\", cv2.WINDOW_NORMAL)\n",
        "    while cap.isOpened():\n",
        "        print('.', end='')\n",
        "        ret, frame = cap.read()\n",
        "        if not ret:\n",
        "            break\n",
        "        pred, nose= predict(img=frame)\n",
        "        frame= draw_axis(frame, pred[0], pred[1], pred[2], nose[0], nose[1])\n",
        "        out.write(frame)\n",
        "        cv2.imshow(\"new Video\", frame)\n",
        "        cv2.waitKey(2)\n",
        "        \n",
        "    \n",
        "    cap.release()\n",
        "    out.release()\n",
        "    del out\n",
        "    cv2.destroyAllWindows() "
      ]
    },
    {
      "attachments": {},
      "cell_type": "markdown",
      "metadata": {},
      "source": [
        "### Rearrange the dataset hierarchy"
      ]
    },
    {
      "cell_type": "code",
      "execution_count": 6,
      "metadata": {},
      "outputs": [],
      "source": [
        "os.makedirs(train_path, exist_ok=True)\n",
        "os.makedirs(test_path, exist_ok=True)\n",
        "\n",
        "data_files = os.listdir(main_path)\n",
        "images = [img for img in data_files if img.endswith('.jpg')]\n",
        "matrices = [matrix for matrix in data_files if matrix.endswith('.mat')]\n",
        "\n",
        "image_train, image_test, matrix_train, matrix_test = train_test_split(images, matrices, test_size=0.2)\n",
        "\n",
        "for img, mat in zip(image_test, matrix_test):\n",
        "    img_src = os.path.join(main_path, img)\n",
        "    img_dst = os.path.join(test_path, img)\n",
        "    shutil.copy(img_src, img_dst)\n",
        "\n",
        "    mat_src = os.path.join(main_path, mat)\n",
        "    mat_dst = os.path.join(test_path, mat)\n",
        "    shutil.copy(mat_src, mat_dst)\n",
        "\n",
        "for img, mat in zip(image_train, matrix_train):\n",
        "    img_src = os.path.join(main_path, img)\n",
        "    img_dst = os.path.join(train_path, img)\n",
        "    shutil.copy(img_src, img_dst)\n",
        "\n",
        "    mat_src = os.path.join(main_path, mat)\n",
        "    mat_dst = os.path.join(train_path, mat)\n",
        "    shutil.copy(mat_src, mat_dst)\n"
      ]
    },
    {
      "attachments": {},
      "cell_type": "markdown",
      "metadata": {},
      "source": [
        "##### Get all the x, y points for the meshs for all images in the train directory"
      ]
    },
    {
      "cell_type": "code",
      "execution_count": 8,
      "metadata": {
        "id": "Wc85uKqfFhbp"
      },
      "outputs": [
        {
          "name": "stdout",
          "output_type": "stream",
          "text": [
            "(1770, 468)\n"
          ]
        }
      ],
      "source": [
        "point_x_train, point_y_train= get_mesh_of_dir(train_path)"
      ]
    },
    {
      "cell_type": "code",
      "execution_count": 9,
      "metadata": {},
      "outputs": [
        {
          "data": {
            "text/plain": [
              "((1770, 468), (1770, 468))"
            ]
          },
          "execution_count": 9,
          "metadata": {},
          "output_type": "execute_result"
        }
      ],
      "source": [
        "point_x_train.shape, point_y_train.shape"
      ]
    },
    {
      "attachments": {},
      "cell_type": "markdown",
      "metadata": {},
      "source": [
        "##### Make a dataframe from the x values"
      ]
    },
    {
      "cell_type": "code",
      "execution_count": 11,
      "metadata": {},
      "outputs": [
        {
          "data": {
            "text/html": [
              "<div>\n",
              "<style scoped>\n",
              "    .dataframe tbody tr th:only-of-type {\n",
              "        vertical-align: middle;\n",
              "    }\n",
              "\n",
              "    .dataframe tbody tr th {\n",
              "        vertical-align: top;\n",
              "    }\n",
              "\n",
              "    .dataframe thead th {\n",
              "        text-align: right;\n",
              "    }\n",
              "</style>\n",
              "<table border=\"1\" class=\"dataframe\">\n",
              "  <thead>\n",
              "    <tr style=\"text-align: right;\">\n",
              "      <th></th>\n",
              "      <th>x1</th>\n",
              "      <th>x2</th>\n",
              "      <th>x3</th>\n",
              "      <th>x4</th>\n",
              "      <th>x5</th>\n",
              "      <th>x6</th>\n",
              "      <th>x7</th>\n",
              "      <th>x8</th>\n",
              "      <th>x9</th>\n",
              "      <th>x10</th>\n",
              "      <th>...</th>\n",
              "      <th>x459</th>\n",
              "      <th>x460</th>\n",
              "      <th>x461</th>\n",
              "      <th>x462</th>\n",
              "      <th>x463</th>\n",
              "      <th>x464</th>\n",
              "      <th>x465</th>\n",
              "      <th>x466</th>\n",
              "      <th>x467</th>\n",
              "      <th>x468</th>\n",
              "    </tr>\n",
              "  </thead>\n",
              "  <tbody>\n",
              "    <tr>\n",
              "      <th>0</th>\n",
              "      <td>-0.008347</td>\n",
              "      <td>0.0</td>\n",
              "      <td>0.000000</td>\n",
              "      <td>-0.020868</td>\n",
              "      <td>0.000000</td>\n",
              "      <td>0.008347</td>\n",
              "      <td>0.025041</td>\n",
              "      <td>-0.237893</td>\n",
              "      <td>0.033388</td>\n",
              "      <td>0.037562</td>\n",
              "      <td>...</td>\n",
              "      <td>0.037562</td>\n",
              "      <td>0.058430</td>\n",
              "      <td>0.095992</td>\n",
              "      <td>0.029215</td>\n",
              "      <td>0.025041</td>\n",
              "      <td>0.129380</td>\n",
              "      <td>0.108512</td>\n",
              "      <td>0.095992</td>\n",
              "      <td>0.329711</td>\n",
              "      <td>0.350579</td>\n",
              "    </tr>\n",
              "    <tr>\n",
              "      <th>1</th>\n",
              "      <td>0.067483</td>\n",
              "      <td>0.0</td>\n",
              "      <td>0.085888</td>\n",
              "      <td>0.055214</td>\n",
              "      <td>0.000000</td>\n",
              "      <td>0.030674</td>\n",
              "      <td>0.128832</td>\n",
              "      <td>0.128832</td>\n",
              "      <td>0.159506</td>\n",
              "      <td>0.153371</td>\n",
              "      <td>...</td>\n",
              "      <td>0.067483</td>\n",
              "      <td>0.079753</td>\n",
              "      <td>0.177911</td>\n",
              "      <td>0.055214</td>\n",
              "      <td>0.079753</td>\n",
              "      <td>0.294473</td>\n",
              "      <td>0.263799</td>\n",
              "      <td>0.233124</td>\n",
              "      <td>0.466249</td>\n",
              "      <td>0.490788</td>\n",
              "    </tr>\n",
              "    <tr>\n",
              "      <th>2</th>\n",
              "      <td>-0.009802</td>\n",
              "      <td>0.0</td>\n",
              "      <td>-0.009802</td>\n",
              "      <td>-0.049010</td>\n",
              "      <td>0.000000</td>\n",
              "      <td>0.000000</td>\n",
              "      <td>-0.019604</td>\n",
              "      <td>-0.323467</td>\n",
              "      <td>-0.029406</td>\n",
              "      <td>-0.029406</td>\n",
              "      <td>...</td>\n",
              "      <td>0.029406</td>\n",
              "      <td>0.049010</td>\n",
              "      <td>0.078416</td>\n",
              "      <td>0.029406</td>\n",
              "      <td>0.019604</td>\n",
              "      <td>0.058812</td>\n",
              "      <td>0.039208</td>\n",
              "      <td>0.029406</td>\n",
              "      <td>0.235249</td>\n",
              "      <td>0.245051</td>\n",
              "    </tr>\n",
              "    <tr>\n",
              "      <th>3</th>\n",
              "      <td>0.073167</td>\n",
              "      <td>0.0</td>\n",
              "      <td>0.043900</td>\n",
              "      <td>-0.058534</td>\n",
              "      <td>-0.019511</td>\n",
              "      <td>-0.029267</td>\n",
              "      <td>-0.039023</td>\n",
              "      <td>-0.239013</td>\n",
              "      <td>-0.073167</td>\n",
              "      <td>-0.092679</td>\n",
              "      <td>...</td>\n",
              "      <td>0.053656</td>\n",
              "      <td>0.068289</td>\n",
              "      <td>0.136579</td>\n",
              "      <td>0.048778</td>\n",
              "      <td>0.053656</td>\n",
              "      <td>0.082923</td>\n",
              "      <td>0.058534</td>\n",
              "      <td>0.043900</td>\n",
              "      <td>0.278036</td>\n",
              "      <td>0.292669</td>\n",
              "    </tr>\n",
              "    <tr>\n",
              "      <th>4</th>\n",
              "      <td>0.035103</td>\n",
              "      <td>0.0</td>\n",
              "      <td>0.013164</td>\n",
              "      <td>-0.048267</td>\n",
              "      <td>-0.008776</td>\n",
              "      <td>-0.017552</td>\n",
              "      <td>-0.035103</td>\n",
              "      <td>-0.263274</td>\n",
              "      <td>-0.048267</td>\n",
              "      <td>-0.057043</td>\n",
              "      <td>...</td>\n",
              "      <td>0.039491</td>\n",
              "      <td>0.052655</td>\n",
              "      <td>0.096534</td>\n",
              "      <td>0.035103</td>\n",
              "      <td>0.030715</td>\n",
              "      <td>0.057043</td>\n",
              "      <td>0.035103</td>\n",
              "      <td>0.026327</td>\n",
              "      <td>0.219395</td>\n",
              "      <td>0.236947</td>\n",
              "    </tr>\n",
              "  </tbody>\n",
              "</table>\n",
              "<p>5 rows × 468 columns</p>\n",
              "</div>"
            ],
            "text/plain": [
              "         x1   x2        x3        x4        x5        x6        x7        x8  \\\n",
              "0 -0.008347  0.0  0.000000 -0.020868  0.000000  0.008347  0.025041 -0.237893   \n",
              "1  0.067483  0.0  0.085888  0.055214  0.000000  0.030674  0.128832  0.128832   \n",
              "2 -0.009802  0.0 -0.009802 -0.049010  0.000000  0.000000 -0.019604 -0.323467   \n",
              "3  0.073167  0.0  0.043900 -0.058534 -0.019511 -0.029267 -0.039023 -0.239013   \n",
              "4  0.035103  0.0  0.013164 -0.048267 -0.008776 -0.017552 -0.035103 -0.263274   \n",
              "\n",
              "         x9       x10  ...      x459      x460      x461      x462      x463  \\\n",
              "0  0.033388  0.037562  ...  0.037562  0.058430  0.095992  0.029215  0.025041   \n",
              "1  0.159506  0.153371  ...  0.067483  0.079753  0.177911  0.055214  0.079753   \n",
              "2 -0.029406 -0.029406  ...  0.029406  0.049010  0.078416  0.029406  0.019604   \n",
              "3 -0.073167 -0.092679  ...  0.053656  0.068289  0.136579  0.048778  0.053656   \n",
              "4 -0.048267 -0.057043  ...  0.039491  0.052655  0.096534  0.035103  0.030715   \n",
              "\n",
              "       x464      x465      x466      x467      x468  \n",
              "0  0.129380  0.108512  0.095992  0.329711  0.350579  \n",
              "1  0.294473  0.263799  0.233124  0.466249  0.490788  \n",
              "2  0.058812  0.039208  0.029406  0.235249  0.245051  \n",
              "3  0.082923  0.058534  0.043900  0.278036  0.292669  \n",
              "4  0.057043  0.035103  0.026327  0.219395  0.236947  \n",
              "\n",
              "[5 rows x 468 columns]"
            ]
          },
          "execution_count": 11,
          "metadata": {},
          "output_type": "execute_result"
        }
      ],
      "source": [
        "point_x_df_train= make_feature(point_x_train, 'x')\n",
        "point_x_df_train.head()"
      ]
    },
    {
      "attachments": {},
      "cell_type": "markdown",
      "metadata": {},
      "source": [
        "##### Make a dataframe from the y values"
      ]
    },
    {
      "cell_type": "code",
      "execution_count": 12,
      "metadata": {},
      "outputs": [
        {
          "data": {
            "text/html": [
              "<div>\n",
              "<style scoped>\n",
              "    .dataframe tbody tr th:only-of-type {\n",
              "        vertical-align: middle;\n",
              "    }\n",
              "\n",
              "    .dataframe tbody tr th {\n",
              "        vertical-align: top;\n",
              "    }\n",
              "\n",
              "    .dataframe thead th {\n",
              "        text-align: right;\n",
              "    }\n",
              "</style>\n",
              "<table border=\"1\" class=\"dataframe\">\n",
              "  <thead>\n",
              "    <tr style=\"text-align: right;\">\n",
              "      <th></th>\n",
              "      <th>y1</th>\n",
              "      <th>y2</th>\n",
              "      <th>y3</th>\n",
              "      <th>y4</th>\n",
              "      <th>y5</th>\n",
              "      <th>y6</th>\n",
              "      <th>y7</th>\n",
              "      <th>y8</th>\n",
              "      <th>y9</th>\n",
              "      <th>y10</th>\n",
              "      <th>...</th>\n",
              "      <th>y459</th>\n",
              "      <th>y460</th>\n",
              "      <th>y461</th>\n",
              "      <th>y462</th>\n",
              "      <th>y463</th>\n",
              "      <th>y464</th>\n",
              "      <th>y465</th>\n",
              "      <th>y466</th>\n",
              "      <th>y467</th>\n",
              "      <th>y468</th>\n",
              "    </tr>\n",
              "  </thead>\n",
              "  <tbody>\n",
              "    <tr>\n",
              "      <th>0</th>\n",
              "      <td>0.091818</td>\n",
              "      <td>0.0</td>\n",
              "      <td>0.016694</td>\n",
              "      <td>-0.141901</td>\n",
              "      <td>-0.033388</td>\n",
              "      <td>-0.091818</td>\n",
              "      <td>-0.246240</td>\n",
              "      <td>-0.350579</td>\n",
              "      <td>-0.358926</td>\n",
              "      <td>-0.409008</td>\n",
              "      <td>...</td>\n",
              "      <td>0.004174</td>\n",
              "      <td>-0.008347</td>\n",
              "      <td>-0.004174</td>\n",
              "      <td>0.008347</td>\n",
              "      <td>0.012521</td>\n",
              "      <td>-0.287975</td>\n",
              "      <td>-0.275455</td>\n",
              "      <td>-0.258760</td>\n",
              "      <td>-0.313017</td>\n",
              "      <td>-0.329711</td>\n",
              "    </tr>\n",
              "    <tr>\n",
              "      <th>1</th>\n",
              "      <td>0.134967</td>\n",
              "      <td>0.0</td>\n",
              "      <td>0.049079</td>\n",
              "      <td>-0.128832</td>\n",
              "      <td>-0.042944</td>\n",
              "      <td>-0.092023</td>\n",
              "      <td>-0.220855</td>\n",
              "      <td>-0.251529</td>\n",
              "      <td>-0.319012</td>\n",
              "      <td>-0.368091</td>\n",
              "      <td>...</td>\n",
              "      <td>0.018405</td>\n",
              "      <td>0.012270</td>\n",
              "      <td>0.049079</td>\n",
              "      <td>0.024539</td>\n",
              "      <td>0.036809</td>\n",
              "      <td>-0.233124</td>\n",
              "      <td>-0.220855</td>\n",
              "      <td>-0.214720</td>\n",
              "      <td>-0.251529</td>\n",
              "      <td>-0.269934</td>\n",
              "    </tr>\n",
              "    <tr>\n",
              "      <th>2</th>\n",
              "      <td>0.098020</td>\n",
              "      <td>0.0</td>\n",
              "      <td>0.019604</td>\n",
              "      <td>-0.137229</td>\n",
              "      <td>-0.039208</td>\n",
              "      <td>-0.098020</td>\n",
              "      <td>-0.235249</td>\n",
              "      <td>-0.254853</td>\n",
              "      <td>-0.323467</td>\n",
              "      <td>-0.372477</td>\n",
              "      <td>...</td>\n",
              "      <td>0.000000</td>\n",
              "      <td>-0.009802</td>\n",
              "      <td>-0.009802</td>\n",
              "      <td>0.009802</td>\n",
              "      <td>0.009802</td>\n",
              "      <td>-0.254853</td>\n",
              "      <td>-0.245051</td>\n",
              "      <td>-0.235249</td>\n",
              "      <td>-0.284259</td>\n",
              "      <td>-0.294061</td>\n",
              "    </tr>\n",
              "    <tr>\n",
              "      <th>3</th>\n",
              "      <td>0.087801</td>\n",
              "      <td>0.0</td>\n",
              "      <td>0.009756</td>\n",
              "      <td>-0.141457</td>\n",
              "      <td>-0.039023</td>\n",
              "      <td>-0.097556</td>\n",
              "      <td>-0.258524</td>\n",
              "      <td>-0.248769</td>\n",
              "      <td>-0.375592</td>\n",
              "      <td>-0.429248</td>\n",
              "      <td>...</td>\n",
              "      <td>-0.014633</td>\n",
              "      <td>-0.034145</td>\n",
              "      <td>-0.048778</td>\n",
              "      <td>-0.004878</td>\n",
              "      <td>-0.004878</td>\n",
              "      <td>-0.336569</td>\n",
              "      <td>-0.317058</td>\n",
              "      <td>-0.297547</td>\n",
              "      <td>-0.434126</td>\n",
              "      <td>-0.458515</td>\n",
              "    </tr>\n",
              "    <tr>\n",
              "      <th>4</th>\n",
              "      <td>0.127249</td>\n",
              "      <td>0.0</td>\n",
              "      <td>0.039491</td>\n",
              "      <td>-0.122861</td>\n",
              "      <td>-0.039491</td>\n",
              "      <td>-0.092146</td>\n",
              "      <td>-0.219395</td>\n",
              "      <td>-0.179904</td>\n",
              "      <td>-0.293990</td>\n",
              "      <td>-0.337869</td>\n",
              "      <td>...</td>\n",
              "      <td>0.004388</td>\n",
              "      <td>-0.013164</td>\n",
              "      <td>0.004388</td>\n",
              "      <td>0.008776</td>\n",
              "      <td>0.017552</td>\n",
              "      <td>-0.245723</td>\n",
              "      <td>-0.232559</td>\n",
              "      <td>-0.223783</td>\n",
              "      <td>-0.302766</td>\n",
              "      <td>-0.311541</td>\n",
              "    </tr>\n",
              "  </tbody>\n",
              "</table>\n",
              "<p>5 rows × 468 columns</p>\n",
              "</div>"
            ],
            "text/plain": [
              "         y1   y2        y3        y4        y5        y6        y7        y8  \\\n",
              "0  0.091818  0.0  0.016694 -0.141901 -0.033388 -0.091818 -0.246240 -0.350579   \n",
              "1  0.134967  0.0  0.049079 -0.128832 -0.042944 -0.092023 -0.220855 -0.251529   \n",
              "2  0.098020  0.0  0.019604 -0.137229 -0.039208 -0.098020 -0.235249 -0.254853   \n",
              "3  0.087801  0.0  0.009756 -0.141457 -0.039023 -0.097556 -0.258524 -0.248769   \n",
              "4  0.127249  0.0  0.039491 -0.122861 -0.039491 -0.092146 -0.219395 -0.179904   \n",
              "\n",
              "         y9       y10  ...      y459      y460      y461      y462      y463  \\\n",
              "0 -0.358926 -0.409008  ...  0.004174 -0.008347 -0.004174  0.008347  0.012521   \n",
              "1 -0.319012 -0.368091  ...  0.018405  0.012270  0.049079  0.024539  0.036809   \n",
              "2 -0.323467 -0.372477  ...  0.000000 -0.009802 -0.009802  0.009802  0.009802   \n",
              "3 -0.375592 -0.429248  ... -0.014633 -0.034145 -0.048778 -0.004878 -0.004878   \n",
              "4 -0.293990 -0.337869  ...  0.004388 -0.013164  0.004388  0.008776  0.017552   \n",
              "\n",
              "       y464      y465      y466      y467      y468  \n",
              "0 -0.287975 -0.275455 -0.258760 -0.313017 -0.329711  \n",
              "1 -0.233124 -0.220855 -0.214720 -0.251529 -0.269934  \n",
              "2 -0.254853 -0.245051 -0.235249 -0.284259 -0.294061  \n",
              "3 -0.336569 -0.317058 -0.297547 -0.434126 -0.458515  \n",
              "4 -0.245723 -0.232559 -0.223783 -0.302766 -0.311541  \n",
              "\n",
              "[5 rows x 468 columns]"
            ]
          },
          "execution_count": 12,
          "metadata": {},
          "output_type": "execute_result"
        }
      ],
      "source": [
        "point_y_df_train= make_feature(point_y_train, 'y')\n",
        "point_y_df_train.head()"
      ]
    },
    {
      "attachments": {},
      "cell_type": "markdown",
      "metadata": {},
      "source": [
        "##### Concatenate both dataframes into a train features dataframe"
      ]
    },
    {
      "cell_type": "code",
      "execution_count": 13,
      "metadata": {},
      "outputs": [
        {
          "data": {
            "text/html": [
              "<div>\n",
              "<style scoped>\n",
              "    .dataframe tbody tr th:only-of-type {\n",
              "        vertical-align: middle;\n",
              "    }\n",
              "\n",
              "    .dataframe tbody tr th {\n",
              "        vertical-align: top;\n",
              "    }\n",
              "\n",
              "    .dataframe thead th {\n",
              "        text-align: right;\n",
              "    }\n",
              "</style>\n",
              "<table border=\"1\" class=\"dataframe\">\n",
              "  <thead>\n",
              "    <tr style=\"text-align: right;\">\n",
              "      <th></th>\n",
              "      <th>x1</th>\n",
              "      <th>x2</th>\n",
              "      <th>x3</th>\n",
              "      <th>x4</th>\n",
              "      <th>x5</th>\n",
              "      <th>x6</th>\n",
              "      <th>x7</th>\n",
              "      <th>x8</th>\n",
              "      <th>x9</th>\n",
              "      <th>x10</th>\n",
              "      <th>...</th>\n",
              "      <th>y459</th>\n",
              "      <th>y460</th>\n",
              "      <th>y461</th>\n",
              "      <th>y462</th>\n",
              "      <th>y463</th>\n",
              "      <th>y464</th>\n",
              "      <th>y465</th>\n",
              "      <th>y466</th>\n",
              "      <th>y467</th>\n",
              "      <th>y468</th>\n",
              "    </tr>\n",
              "  </thead>\n",
              "  <tbody>\n",
              "    <tr>\n",
              "      <th>0</th>\n",
              "      <td>-0.008347</td>\n",
              "      <td>0.0</td>\n",
              "      <td>0.000000</td>\n",
              "      <td>-0.020868</td>\n",
              "      <td>0.000000</td>\n",
              "      <td>0.008347</td>\n",
              "      <td>0.025041</td>\n",
              "      <td>-0.237893</td>\n",
              "      <td>0.033388</td>\n",
              "      <td>0.037562</td>\n",
              "      <td>...</td>\n",
              "      <td>0.004174</td>\n",
              "      <td>-0.008347</td>\n",
              "      <td>-0.004174</td>\n",
              "      <td>0.008347</td>\n",
              "      <td>0.012521</td>\n",
              "      <td>-0.287975</td>\n",
              "      <td>-0.275455</td>\n",
              "      <td>-0.258760</td>\n",
              "      <td>-0.313017</td>\n",
              "      <td>-0.329711</td>\n",
              "    </tr>\n",
              "    <tr>\n",
              "      <th>1</th>\n",
              "      <td>0.067483</td>\n",
              "      <td>0.0</td>\n",
              "      <td>0.085888</td>\n",
              "      <td>0.055214</td>\n",
              "      <td>0.000000</td>\n",
              "      <td>0.030674</td>\n",
              "      <td>0.128832</td>\n",
              "      <td>0.128832</td>\n",
              "      <td>0.159506</td>\n",
              "      <td>0.153371</td>\n",
              "      <td>...</td>\n",
              "      <td>0.018405</td>\n",
              "      <td>0.012270</td>\n",
              "      <td>0.049079</td>\n",
              "      <td>0.024539</td>\n",
              "      <td>0.036809</td>\n",
              "      <td>-0.233124</td>\n",
              "      <td>-0.220855</td>\n",
              "      <td>-0.214720</td>\n",
              "      <td>-0.251529</td>\n",
              "      <td>-0.269934</td>\n",
              "    </tr>\n",
              "    <tr>\n",
              "      <th>2</th>\n",
              "      <td>-0.009802</td>\n",
              "      <td>0.0</td>\n",
              "      <td>-0.009802</td>\n",
              "      <td>-0.049010</td>\n",
              "      <td>0.000000</td>\n",
              "      <td>0.000000</td>\n",
              "      <td>-0.019604</td>\n",
              "      <td>-0.323467</td>\n",
              "      <td>-0.029406</td>\n",
              "      <td>-0.029406</td>\n",
              "      <td>...</td>\n",
              "      <td>0.000000</td>\n",
              "      <td>-0.009802</td>\n",
              "      <td>-0.009802</td>\n",
              "      <td>0.009802</td>\n",
              "      <td>0.009802</td>\n",
              "      <td>-0.254853</td>\n",
              "      <td>-0.245051</td>\n",
              "      <td>-0.235249</td>\n",
              "      <td>-0.284259</td>\n",
              "      <td>-0.294061</td>\n",
              "    </tr>\n",
              "    <tr>\n",
              "      <th>3</th>\n",
              "      <td>0.073167</td>\n",
              "      <td>0.0</td>\n",
              "      <td>0.043900</td>\n",
              "      <td>-0.058534</td>\n",
              "      <td>-0.019511</td>\n",
              "      <td>-0.029267</td>\n",
              "      <td>-0.039023</td>\n",
              "      <td>-0.239013</td>\n",
              "      <td>-0.073167</td>\n",
              "      <td>-0.092679</td>\n",
              "      <td>...</td>\n",
              "      <td>-0.014633</td>\n",
              "      <td>-0.034145</td>\n",
              "      <td>-0.048778</td>\n",
              "      <td>-0.004878</td>\n",
              "      <td>-0.004878</td>\n",
              "      <td>-0.336569</td>\n",
              "      <td>-0.317058</td>\n",
              "      <td>-0.297547</td>\n",
              "      <td>-0.434126</td>\n",
              "      <td>-0.458515</td>\n",
              "    </tr>\n",
              "    <tr>\n",
              "      <th>4</th>\n",
              "      <td>0.035103</td>\n",
              "      <td>0.0</td>\n",
              "      <td>0.013164</td>\n",
              "      <td>-0.048267</td>\n",
              "      <td>-0.008776</td>\n",
              "      <td>-0.017552</td>\n",
              "      <td>-0.035103</td>\n",
              "      <td>-0.263274</td>\n",
              "      <td>-0.048267</td>\n",
              "      <td>-0.057043</td>\n",
              "      <td>...</td>\n",
              "      <td>0.004388</td>\n",
              "      <td>-0.013164</td>\n",
              "      <td>0.004388</td>\n",
              "      <td>0.008776</td>\n",
              "      <td>0.017552</td>\n",
              "      <td>-0.245723</td>\n",
              "      <td>-0.232559</td>\n",
              "      <td>-0.223783</td>\n",
              "      <td>-0.302766</td>\n",
              "      <td>-0.311541</td>\n",
              "    </tr>\n",
              "  </tbody>\n",
              "</table>\n",
              "<p>5 rows × 936 columns</p>\n",
              "</div>"
            ],
            "text/plain": [
              "         x1   x2        x3        x4        x5        x6        x7        x8  \\\n",
              "0 -0.008347  0.0  0.000000 -0.020868  0.000000  0.008347  0.025041 -0.237893   \n",
              "1  0.067483  0.0  0.085888  0.055214  0.000000  0.030674  0.128832  0.128832   \n",
              "2 -0.009802  0.0 -0.009802 -0.049010  0.000000  0.000000 -0.019604 -0.323467   \n",
              "3  0.073167  0.0  0.043900 -0.058534 -0.019511 -0.029267 -0.039023 -0.239013   \n",
              "4  0.035103  0.0  0.013164 -0.048267 -0.008776 -0.017552 -0.035103 -0.263274   \n",
              "\n",
              "         x9       x10  ...      y459      y460      y461      y462      y463  \\\n",
              "0  0.033388  0.037562  ...  0.004174 -0.008347 -0.004174  0.008347  0.012521   \n",
              "1  0.159506  0.153371  ...  0.018405  0.012270  0.049079  0.024539  0.036809   \n",
              "2 -0.029406 -0.029406  ...  0.000000 -0.009802 -0.009802  0.009802  0.009802   \n",
              "3 -0.073167 -0.092679  ... -0.014633 -0.034145 -0.048778 -0.004878 -0.004878   \n",
              "4 -0.048267 -0.057043  ...  0.004388 -0.013164  0.004388  0.008776  0.017552   \n",
              "\n",
              "       y464      y465      y466      y467      y468  \n",
              "0 -0.287975 -0.275455 -0.258760 -0.313017 -0.329711  \n",
              "1 -0.233124 -0.220855 -0.214720 -0.251529 -0.269934  \n",
              "2 -0.254853 -0.245051 -0.235249 -0.284259 -0.294061  \n",
              "3 -0.336569 -0.317058 -0.297547 -0.434126 -0.458515  \n",
              "4 -0.245723 -0.232559 -0.223783 -0.302766 -0.311541  \n",
              "\n",
              "[5 rows x 936 columns]"
            ]
          },
          "execution_count": 13,
          "metadata": {},
          "output_type": "execute_result"
        }
      ],
      "source": [
        "x_train = pd.concat([point_x_df_train, point_y_df_train], axis= 1)\n",
        "x_train.head()"
      ]
    },
    {
      "attachments": {},
      "cell_type": "markdown",
      "metadata": {},
      "source": [
        "##### Get all the angles of the train images"
      ]
    },
    {
      "cell_type": "code",
      "execution_count": 15,
      "metadata": {},
      "outputs": [
        {
          "data": {
            "text/html": [
              "<div>\n",
              "<style scoped>\n",
              "    .dataframe tbody tr th:only-of-type {\n",
              "        vertical-align: middle;\n",
              "    }\n",
              "\n",
              "    .dataframe tbody tr th {\n",
              "        vertical-align: top;\n",
              "    }\n",
              "\n",
              "    .dataframe thead th {\n",
              "        text-align: right;\n",
              "    }\n",
              "</style>\n",
              "<table border=\"1\" class=\"dataframe\">\n",
              "  <thead>\n",
              "    <tr style=\"text-align: right;\">\n",
              "      <th></th>\n",
              "      <th>pitch</th>\n",
              "      <th>yaw</th>\n",
              "      <th>roll</th>\n",
              "    </tr>\n",
              "  </thead>\n",
              "  <tbody>\n",
              "    <tr>\n",
              "      <th>0</th>\n",
              "      <td>-0.399231</td>\n",
              "      <td>0.018227</td>\n",
              "      <td>0.085676</td>\n",
              "    </tr>\n",
              "    <tr>\n",
              "      <th>1</th>\n",
              "      <td>0.470065</td>\n",
              "      <td>1.189533</td>\n",
              "      <td>0.300959</td>\n",
              "    </tr>\n",
              "    <tr>\n",
              "      <th>2</th>\n",
              "      <td>-0.184650</td>\n",
              "      <td>0.881137</td>\n",
              "      <td>-0.236852</td>\n",
              "    </tr>\n",
              "    <tr>\n",
              "      <th>3</th>\n",
              "      <td>-0.175379</td>\n",
              "      <td>0.299208</td>\n",
              "      <td>-0.373374</td>\n",
              "    </tr>\n",
              "    <tr>\n",
              "      <th>4</th>\n",
              "      <td>-0.026812</td>\n",
              "      <td>0.011965</td>\n",
              "      <td>-0.220662</td>\n",
              "    </tr>\n",
              "  </tbody>\n",
              "</table>\n",
              "</div>"
            ],
            "text/plain": [
              "      pitch       yaw      roll\n",
              "0 -0.399231  0.018227  0.085676\n",
              "1  0.470065  1.189533  0.300959\n",
              "2 -0.184650  0.881137 -0.236852\n",
              "3 -0.175379  0.299208 -0.373374\n",
              "4 -0.026812  0.011965 -0.220662"
            ]
          },
          "execution_count": 15,
          "metadata": {},
          "output_type": "execute_result"
        }
      ],
      "source": [
        "pitch, yaw, roll= get_angles_from_dir(train_path)\n",
        "y_train= {'pitch': pitch, 'yaw': yaw, 'roll': roll}\n",
        "\n",
        "y_train= pd.DataFrame(y_train)\n",
        "y_train.head()"
      ]
    },
    {
      "attachments": {},
      "cell_type": "markdown",
      "metadata": {},
      "source": [
        "##### Check the length of train and test farmes are the same"
      ]
    },
    {
      "cell_type": "code",
      "execution_count": 16,
      "metadata": {},
      "outputs": [
        {
          "data": {
            "text/plain": [
              "(1770, 1770)"
            ]
          },
          "execution_count": 16,
          "metadata": {},
          "output_type": "execute_result"
        }
      ],
      "source": [
        "len(x_train), len(y_train)"
      ]
    },
    {
      "attachments": {},
      "cell_type": "markdown",
      "metadata": {},
      "source": [
        "##### Get all the x, y points for the meshs for all images in the test directory"
      ]
    },
    {
      "cell_type": "code",
      "execution_count": 17,
      "metadata": {},
      "outputs": [
        {
          "name": "stdout",
          "output_type": "stream",
          "text": [
            "(659, 468)\n"
          ]
        }
      ],
      "source": [
        "point_x_test, point_y_test= get_mesh_of_dir(test_path)"
      ]
    },
    {
      "cell_type": "code",
      "execution_count": 18,
      "metadata": {},
      "outputs": [
        {
          "data": {
            "text/plain": [
              "((659, 468), (659, 468))"
            ]
          },
          "execution_count": 18,
          "metadata": {},
          "output_type": "execute_result"
        }
      ],
      "source": [
        "point_x_test.shape, point_y_test.shape"
      ]
    },
    {
      "cell_type": "markdown",
      "metadata": {},
      "source": [
        "##### Make a dataframe from the x values"
      ]
    },
    {
      "cell_type": "code",
      "execution_count": 19,
      "metadata": {},
      "outputs": [
        {
          "data": {
            "text/html": [
              "<div>\n",
              "<style scoped>\n",
              "    .dataframe tbody tr th:only-of-type {\n",
              "        vertical-align: middle;\n",
              "    }\n",
              "\n",
              "    .dataframe tbody tr th {\n",
              "        vertical-align: top;\n",
              "    }\n",
              "\n",
              "    .dataframe thead th {\n",
              "        text-align: right;\n",
              "    }\n",
              "</style>\n",
              "<table border=\"1\" class=\"dataframe\">\n",
              "  <thead>\n",
              "    <tr style=\"text-align: right;\">\n",
              "      <th></th>\n",
              "      <th>x1</th>\n",
              "      <th>x2</th>\n",
              "      <th>x3</th>\n",
              "      <th>x4</th>\n",
              "      <th>x5</th>\n",
              "      <th>x6</th>\n",
              "      <th>x7</th>\n",
              "      <th>x8</th>\n",
              "      <th>x9</th>\n",
              "      <th>x10</th>\n",
              "      <th>...</th>\n",
              "      <th>x459</th>\n",
              "      <th>x460</th>\n",
              "      <th>x461</th>\n",
              "      <th>x462</th>\n",
              "      <th>x463</th>\n",
              "      <th>x464</th>\n",
              "      <th>x465</th>\n",
              "      <th>x466</th>\n",
              "      <th>x467</th>\n",
              "      <th>x468</th>\n",
              "    </tr>\n",
              "  </thead>\n",
              "  <tbody>\n",
              "    <tr>\n",
              "      <th>0</th>\n",
              "      <td>0.035103</td>\n",
              "      <td>0.0</td>\n",
              "      <td>0.013164</td>\n",
              "      <td>-0.048267</td>\n",
              "      <td>-0.008776</td>\n",
              "      <td>-0.017552</td>\n",
              "      <td>-0.035103</td>\n",
              "      <td>-0.263274</td>\n",
              "      <td>-0.048267</td>\n",
              "      <td>-0.057043</td>\n",
              "      <td>...</td>\n",
              "      <td>0.039491</td>\n",
              "      <td>0.052655</td>\n",
              "      <td>0.096534</td>\n",
              "      <td>0.035103</td>\n",
              "      <td>0.030715</td>\n",
              "      <td>0.057043</td>\n",
              "      <td>0.035103</td>\n",
              "      <td>0.026327</td>\n",
              "      <td>0.219395</td>\n",
              "      <td>0.236947</td>\n",
              "    </tr>\n",
              "    <tr>\n",
              "      <th>1</th>\n",
              "      <td>0.018006</td>\n",
              "      <td>0.0</td>\n",
              "      <td>0.013505</td>\n",
              "      <td>-0.022508</td>\n",
              "      <td>0.000000</td>\n",
              "      <td>0.000000</td>\n",
              "      <td>0.009003</td>\n",
              "      <td>-0.220578</td>\n",
              "      <td>0.013505</td>\n",
              "      <td>0.009003</td>\n",
              "      <td>...</td>\n",
              "      <td>0.045016</td>\n",
              "      <td>0.063022</td>\n",
              "      <td>0.108038</td>\n",
              "      <td>0.036013</td>\n",
              "      <td>0.036013</td>\n",
              "      <td>0.117041</td>\n",
              "      <td>0.094533</td>\n",
              "      <td>0.081028</td>\n",
              "      <td>0.292603</td>\n",
              "      <td>0.310609</td>\n",
              "    </tr>\n",
              "    <tr>\n",
              "      <th>2</th>\n",
              "      <td>0.082356</td>\n",
              "      <td>0.0</td>\n",
              "      <td>0.043600</td>\n",
              "      <td>-0.053289</td>\n",
              "      <td>-0.019378</td>\n",
              "      <td>-0.029067</td>\n",
              "      <td>-0.048444</td>\n",
              "      <td>-0.213156</td>\n",
              "      <td>-0.072667</td>\n",
              "      <td>-0.092044</td>\n",
              "      <td>...</td>\n",
              "      <td>0.053289</td>\n",
              "      <td>0.067822</td>\n",
              "      <td>0.135645</td>\n",
              "      <td>0.043600</td>\n",
              "      <td>0.053289</td>\n",
              "      <td>0.062978</td>\n",
              "      <td>0.043600</td>\n",
              "      <td>0.029067</td>\n",
              "      <td>0.222845</td>\n",
              "      <td>0.237378</td>\n",
              "    </tr>\n",
              "    <tr>\n",
              "      <th>3</th>\n",
              "      <td>0.056172</td>\n",
              "      <td>0.0</td>\n",
              "      <td>0.078641</td>\n",
              "      <td>0.044937</td>\n",
              "      <td>0.000000</td>\n",
              "      <td>0.022469</td>\n",
              "      <td>0.117961</td>\n",
              "      <td>0.101109</td>\n",
              "      <td>0.140429</td>\n",
              "      <td>0.134812</td>\n",
              "      <td>...</td>\n",
              "      <td>0.056172</td>\n",
              "      <td>0.067406</td>\n",
              "      <td>0.157281</td>\n",
              "      <td>0.044937</td>\n",
              "      <td>0.067406</td>\n",
              "      <td>0.258390</td>\n",
              "      <td>0.230304</td>\n",
              "      <td>0.207836</td>\n",
              "      <td>0.415671</td>\n",
              "      <td>0.438140</td>\n",
              "    </tr>\n",
              "    <tr>\n",
              "      <th>4</th>\n",
              "      <td>0.030150</td>\n",
              "      <td>0.0</td>\n",
              "      <td>0.030150</td>\n",
              "      <td>-0.005025</td>\n",
              "      <td>-0.005025</td>\n",
              "      <td>0.005025</td>\n",
              "      <td>0.045226</td>\n",
              "      <td>-0.120601</td>\n",
              "      <td>0.055276</td>\n",
              "      <td>0.050251</td>\n",
              "      <td>...</td>\n",
              "      <td>0.050251</td>\n",
              "      <td>0.065326</td>\n",
              "      <td>0.130652</td>\n",
              "      <td>0.040200</td>\n",
              "      <td>0.045226</td>\n",
              "      <td>0.165827</td>\n",
              "      <td>0.140702</td>\n",
              "      <td>0.120601</td>\n",
              "      <td>0.336679</td>\n",
              "      <td>0.361804</td>\n",
              "    </tr>\n",
              "  </tbody>\n",
              "</table>\n",
              "<p>5 rows × 468 columns</p>\n",
              "</div>"
            ],
            "text/plain": [
              "         x1   x2        x3        x4        x5        x6        x7        x8  \\\n",
              "0  0.035103  0.0  0.013164 -0.048267 -0.008776 -0.017552 -0.035103 -0.263274   \n",
              "1  0.018006  0.0  0.013505 -0.022508  0.000000  0.000000  0.009003 -0.220578   \n",
              "2  0.082356  0.0  0.043600 -0.053289 -0.019378 -0.029067 -0.048444 -0.213156   \n",
              "3  0.056172  0.0  0.078641  0.044937  0.000000  0.022469  0.117961  0.101109   \n",
              "4  0.030150  0.0  0.030150 -0.005025 -0.005025  0.005025  0.045226 -0.120601   \n",
              "\n",
              "         x9       x10  ...      x459      x460      x461      x462      x463  \\\n",
              "0 -0.048267 -0.057043  ...  0.039491  0.052655  0.096534  0.035103  0.030715   \n",
              "1  0.013505  0.009003  ...  0.045016  0.063022  0.108038  0.036013  0.036013   \n",
              "2 -0.072667 -0.092044  ...  0.053289  0.067822  0.135645  0.043600  0.053289   \n",
              "3  0.140429  0.134812  ...  0.056172  0.067406  0.157281  0.044937  0.067406   \n",
              "4  0.055276  0.050251  ...  0.050251  0.065326  0.130652  0.040200  0.045226   \n",
              "\n",
              "       x464      x465      x466      x467      x468  \n",
              "0  0.057043  0.035103  0.026327  0.219395  0.236947  \n",
              "1  0.117041  0.094533  0.081028  0.292603  0.310609  \n",
              "2  0.062978  0.043600  0.029067  0.222845  0.237378  \n",
              "3  0.258390  0.230304  0.207836  0.415671  0.438140  \n",
              "4  0.165827  0.140702  0.120601  0.336679  0.361804  \n",
              "\n",
              "[5 rows x 468 columns]"
            ]
          },
          "execution_count": 19,
          "metadata": {},
          "output_type": "execute_result"
        }
      ],
      "source": [
        "point_x_df_test= make_feature(point_x_test, 'x')\n",
        "point_x_df_test.head()"
      ]
    },
    {
      "attachments": {},
      "cell_type": "markdown",
      "metadata": {},
      "source": [
        "##### Make a dataframe from the y values"
      ]
    },
    {
      "cell_type": "code",
      "execution_count": 20,
      "metadata": {},
      "outputs": [
        {
          "data": {
            "text/html": [
              "<div>\n",
              "<style scoped>\n",
              "    .dataframe tbody tr th:only-of-type {\n",
              "        vertical-align: middle;\n",
              "    }\n",
              "\n",
              "    .dataframe tbody tr th {\n",
              "        vertical-align: top;\n",
              "    }\n",
              "\n",
              "    .dataframe thead th {\n",
              "        text-align: right;\n",
              "    }\n",
              "</style>\n",
              "<table border=\"1\" class=\"dataframe\">\n",
              "  <thead>\n",
              "    <tr style=\"text-align: right;\">\n",
              "      <th></th>\n",
              "      <th>y1</th>\n",
              "      <th>y2</th>\n",
              "      <th>y3</th>\n",
              "      <th>y4</th>\n",
              "      <th>y5</th>\n",
              "      <th>y6</th>\n",
              "      <th>y7</th>\n",
              "      <th>y8</th>\n",
              "      <th>y9</th>\n",
              "      <th>y10</th>\n",
              "      <th>...</th>\n",
              "      <th>y459</th>\n",
              "      <th>y460</th>\n",
              "      <th>y461</th>\n",
              "      <th>y462</th>\n",
              "      <th>y463</th>\n",
              "      <th>y464</th>\n",
              "      <th>y465</th>\n",
              "      <th>y466</th>\n",
              "      <th>y467</th>\n",
              "      <th>y468</th>\n",
              "    </tr>\n",
              "  </thead>\n",
              "  <tbody>\n",
              "    <tr>\n",
              "      <th>0</th>\n",
              "      <td>0.127249</td>\n",
              "      <td>0.0</td>\n",
              "      <td>0.039491</td>\n",
              "      <td>-0.122861</td>\n",
              "      <td>-0.039491</td>\n",
              "      <td>-0.092146</td>\n",
              "      <td>-0.219395</td>\n",
              "      <td>-0.179904</td>\n",
              "      <td>-0.293990</td>\n",
              "      <td>-0.337869</td>\n",
              "      <td>...</td>\n",
              "      <td>0.004388</td>\n",
              "      <td>-0.013164</td>\n",
              "      <td>0.004388</td>\n",
              "      <td>0.008776</td>\n",
              "      <td>0.017552</td>\n",
              "      <td>-0.245723</td>\n",
              "      <td>-0.232559</td>\n",
              "      <td>-0.223783</td>\n",
              "      <td>-0.302766</td>\n",
              "      <td>-0.311541</td>\n",
              "    </tr>\n",
              "    <tr>\n",
              "      <th>1</th>\n",
              "      <td>0.139549</td>\n",
              "      <td>0.0</td>\n",
              "      <td>0.049517</td>\n",
              "      <td>-0.126044</td>\n",
              "      <td>-0.040514</td>\n",
              "      <td>-0.094533</td>\n",
              "      <td>-0.211574</td>\n",
              "      <td>-0.193568</td>\n",
              "      <td>-0.288101</td>\n",
              "      <td>-0.337619</td>\n",
              "      <td>...</td>\n",
              "      <td>0.013505</td>\n",
              "      <td>0.000000</td>\n",
              "      <td>0.031511</td>\n",
              "      <td>0.018006</td>\n",
              "      <td>0.027009</td>\n",
              "      <td>-0.207073</td>\n",
              "      <td>-0.198070</td>\n",
              "      <td>-0.198070</td>\n",
              "      <td>-0.229581</td>\n",
              "      <td>-0.238584</td>\n",
              "    </tr>\n",
              "    <tr>\n",
              "      <th>2</th>\n",
              "      <td>0.111422</td>\n",
              "      <td>0.0</td>\n",
              "      <td>0.024222</td>\n",
              "      <td>-0.121111</td>\n",
              "      <td>-0.038756</td>\n",
              "      <td>-0.092044</td>\n",
              "      <td>-0.222845</td>\n",
              "      <td>-0.174400</td>\n",
              "      <td>-0.300356</td>\n",
              "      <td>-0.343956</td>\n",
              "      <td>...</td>\n",
              "      <td>-0.009689</td>\n",
              "      <td>-0.029067</td>\n",
              "      <td>-0.033911</td>\n",
              "      <td>0.000000</td>\n",
              "      <td>0.000000</td>\n",
              "      <td>-0.285822</td>\n",
              "      <td>-0.266445</td>\n",
              "      <td>-0.251911</td>\n",
              "      <td>-0.373022</td>\n",
              "      <td>-0.392400</td>\n",
              "    </tr>\n",
              "    <tr>\n",
              "      <th>3</th>\n",
              "      <td>0.140429</td>\n",
              "      <td>0.0</td>\n",
              "      <td>0.050555</td>\n",
              "      <td>-0.123578</td>\n",
              "      <td>-0.039320</td>\n",
              "      <td>-0.089875</td>\n",
              "      <td>-0.207836</td>\n",
              "      <td>-0.224687</td>\n",
              "      <td>-0.303328</td>\n",
              "      <td>-0.353882</td>\n",
              "      <td>...</td>\n",
              "      <td>0.022469</td>\n",
              "      <td>0.011234</td>\n",
              "      <td>0.044937</td>\n",
              "      <td>0.022469</td>\n",
              "      <td>0.033703</td>\n",
              "      <td>-0.219070</td>\n",
              "      <td>-0.207836</td>\n",
              "      <td>-0.202218</td>\n",
              "      <td>-0.247156</td>\n",
              "      <td>-0.264007</td>\n",
              "    </tr>\n",
              "    <tr>\n",
              "      <th>4</th>\n",
              "      <td>0.150752</td>\n",
              "      <td>0.0</td>\n",
              "      <td>0.055276</td>\n",
              "      <td>-0.115576</td>\n",
              "      <td>-0.040200</td>\n",
              "      <td>-0.085426</td>\n",
              "      <td>-0.201002</td>\n",
              "      <td>-0.180902</td>\n",
              "      <td>-0.276378</td>\n",
              "      <td>-0.326629</td>\n",
              "      <td>...</td>\n",
              "      <td>0.020100</td>\n",
              "      <td>0.005025</td>\n",
              "      <td>0.040200</td>\n",
              "      <td>0.020100</td>\n",
              "      <td>0.035175</td>\n",
              "      <td>-0.201002</td>\n",
              "      <td>-0.190952</td>\n",
              "      <td>-0.185927</td>\n",
              "      <td>-0.216078</td>\n",
              "      <td>-0.231153</td>\n",
              "    </tr>\n",
              "  </tbody>\n",
              "</table>\n",
              "<p>5 rows × 468 columns</p>\n",
              "</div>"
            ],
            "text/plain": [
              "         y1   y2        y3        y4        y5        y6        y7        y8  \\\n",
              "0  0.127249  0.0  0.039491 -0.122861 -0.039491 -0.092146 -0.219395 -0.179904   \n",
              "1  0.139549  0.0  0.049517 -0.126044 -0.040514 -0.094533 -0.211574 -0.193568   \n",
              "2  0.111422  0.0  0.024222 -0.121111 -0.038756 -0.092044 -0.222845 -0.174400   \n",
              "3  0.140429  0.0  0.050555 -0.123578 -0.039320 -0.089875 -0.207836 -0.224687   \n",
              "4  0.150752  0.0  0.055276 -0.115576 -0.040200 -0.085426 -0.201002 -0.180902   \n",
              "\n",
              "         y9       y10  ...      y459      y460      y461      y462      y463  \\\n",
              "0 -0.293990 -0.337869  ...  0.004388 -0.013164  0.004388  0.008776  0.017552   \n",
              "1 -0.288101 -0.337619  ...  0.013505  0.000000  0.031511  0.018006  0.027009   \n",
              "2 -0.300356 -0.343956  ... -0.009689 -0.029067 -0.033911  0.000000  0.000000   \n",
              "3 -0.303328 -0.353882  ...  0.022469  0.011234  0.044937  0.022469  0.033703   \n",
              "4 -0.276378 -0.326629  ...  0.020100  0.005025  0.040200  0.020100  0.035175   \n",
              "\n",
              "       y464      y465      y466      y467      y468  \n",
              "0 -0.245723 -0.232559 -0.223783 -0.302766 -0.311541  \n",
              "1 -0.207073 -0.198070 -0.198070 -0.229581 -0.238584  \n",
              "2 -0.285822 -0.266445 -0.251911 -0.373022 -0.392400  \n",
              "3 -0.219070 -0.207836 -0.202218 -0.247156 -0.264007  \n",
              "4 -0.201002 -0.190952 -0.185927 -0.216078 -0.231153  \n",
              "\n",
              "[5 rows x 468 columns]"
            ]
          },
          "execution_count": 20,
          "metadata": {},
          "output_type": "execute_result"
        }
      ],
      "source": [
        "point_y_df_test= make_feature(point_y_test, 'y')\n",
        "point_y_df_test.head()"
      ]
    },
    {
      "attachments": {},
      "cell_type": "markdown",
      "metadata": {},
      "source": [
        "##### Concatenate both dataframes into a test features dataframe"
      ]
    },
    {
      "cell_type": "code",
      "execution_count": 21,
      "metadata": {},
      "outputs": [
        {
          "data": {
            "text/html": [
              "<div>\n",
              "<style scoped>\n",
              "    .dataframe tbody tr th:only-of-type {\n",
              "        vertical-align: middle;\n",
              "    }\n",
              "\n",
              "    .dataframe tbody tr th {\n",
              "        vertical-align: top;\n",
              "    }\n",
              "\n",
              "    .dataframe thead th {\n",
              "        text-align: right;\n",
              "    }\n",
              "</style>\n",
              "<table border=\"1\" class=\"dataframe\">\n",
              "  <thead>\n",
              "    <tr style=\"text-align: right;\">\n",
              "      <th></th>\n",
              "      <th>x1</th>\n",
              "      <th>x2</th>\n",
              "      <th>x3</th>\n",
              "      <th>x4</th>\n",
              "      <th>x5</th>\n",
              "      <th>x6</th>\n",
              "      <th>x7</th>\n",
              "      <th>x8</th>\n",
              "      <th>x9</th>\n",
              "      <th>x10</th>\n",
              "      <th>...</th>\n",
              "      <th>y459</th>\n",
              "      <th>y460</th>\n",
              "      <th>y461</th>\n",
              "      <th>y462</th>\n",
              "      <th>y463</th>\n",
              "      <th>y464</th>\n",
              "      <th>y465</th>\n",
              "      <th>y466</th>\n",
              "      <th>y467</th>\n",
              "      <th>y468</th>\n",
              "    </tr>\n",
              "  </thead>\n",
              "  <tbody>\n",
              "    <tr>\n",
              "      <th>0</th>\n",
              "      <td>0.035103</td>\n",
              "      <td>0.0</td>\n",
              "      <td>0.013164</td>\n",
              "      <td>-0.048267</td>\n",
              "      <td>-0.008776</td>\n",
              "      <td>-0.017552</td>\n",
              "      <td>-0.035103</td>\n",
              "      <td>-0.263274</td>\n",
              "      <td>-0.048267</td>\n",
              "      <td>-0.057043</td>\n",
              "      <td>...</td>\n",
              "      <td>0.004388</td>\n",
              "      <td>-0.013164</td>\n",
              "      <td>0.004388</td>\n",
              "      <td>0.008776</td>\n",
              "      <td>0.017552</td>\n",
              "      <td>-0.245723</td>\n",
              "      <td>-0.232559</td>\n",
              "      <td>-0.223783</td>\n",
              "      <td>-0.302766</td>\n",
              "      <td>-0.311541</td>\n",
              "    </tr>\n",
              "    <tr>\n",
              "      <th>1</th>\n",
              "      <td>0.018006</td>\n",
              "      <td>0.0</td>\n",
              "      <td>0.013505</td>\n",
              "      <td>-0.022508</td>\n",
              "      <td>0.000000</td>\n",
              "      <td>0.000000</td>\n",
              "      <td>0.009003</td>\n",
              "      <td>-0.220578</td>\n",
              "      <td>0.013505</td>\n",
              "      <td>0.009003</td>\n",
              "      <td>...</td>\n",
              "      <td>0.013505</td>\n",
              "      <td>0.000000</td>\n",
              "      <td>0.031511</td>\n",
              "      <td>0.018006</td>\n",
              "      <td>0.027009</td>\n",
              "      <td>-0.207073</td>\n",
              "      <td>-0.198070</td>\n",
              "      <td>-0.198070</td>\n",
              "      <td>-0.229581</td>\n",
              "      <td>-0.238584</td>\n",
              "    </tr>\n",
              "    <tr>\n",
              "      <th>2</th>\n",
              "      <td>0.082356</td>\n",
              "      <td>0.0</td>\n",
              "      <td>0.043600</td>\n",
              "      <td>-0.053289</td>\n",
              "      <td>-0.019378</td>\n",
              "      <td>-0.029067</td>\n",
              "      <td>-0.048444</td>\n",
              "      <td>-0.213156</td>\n",
              "      <td>-0.072667</td>\n",
              "      <td>-0.092044</td>\n",
              "      <td>...</td>\n",
              "      <td>-0.009689</td>\n",
              "      <td>-0.029067</td>\n",
              "      <td>-0.033911</td>\n",
              "      <td>0.000000</td>\n",
              "      <td>0.000000</td>\n",
              "      <td>-0.285822</td>\n",
              "      <td>-0.266445</td>\n",
              "      <td>-0.251911</td>\n",
              "      <td>-0.373022</td>\n",
              "      <td>-0.392400</td>\n",
              "    </tr>\n",
              "    <tr>\n",
              "      <th>3</th>\n",
              "      <td>0.056172</td>\n",
              "      <td>0.0</td>\n",
              "      <td>0.078641</td>\n",
              "      <td>0.044937</td>\n",
              "      <td>0.000000</td>\n",
              "      <td>0.022469</td>\n",
              "      <td>0.117961</td>\n",
              "      <td>0.101109</td>\n",
              "      <td>0.140429</td>\n",
              "      <td>0.134812</td>\n",
              "      <td>...</td>\n",
              "      <td>0.022469</td>\n",
              "      <td>0.011234</td>\n",
              "      <td>0.044937</td>\n",
              "      <td>0.022469</td>\n",
              "      <td>0.033703</td>\n",
              "      <td>-0.219070</td>\n",
              "      <td>-0.207836</td>\n",
              "      <td>-0.202218</td>\n",
              "      <td>-0.247156</td>\n",
              "      <td>-0.264007</td>\n",
              "    </tr>\n",
              "    <tr>\n",
              "      <th>4</th>\n",
              "      <td>0.030150</td>\n",
              "      <td>0.0</td>\n",
              "      <td>0.030150</td>\n",
              "      <td>-0.005025</td>\n",
              "      <td>-0.005025</td>\n",
              "      <td>0.005025</td>\n",
              "      <td>0.045226</td>\n",
              "      <td>-0.120601</td>\n",
              "      <td>0.055276</td>\n",
              "      <td>0.050251</td>\n",
              "      <td>...</td>\n",
              "      <td>0.020100</td>\n",
              "      <td>0.005025</td>\n",
              "      <td>0.040200</td>\n",
              "      <td>0.020100</td>\n",
              "      <td>0.035175</td>\n",
              "      <td>-0.201002</td>\n",
              "      <td>-0.190952</td>\n",
              "      <td>-0.185927</td>\n",
              "      <td>-0.216078</td>\n",
              "      <td>-0.231153</td>\n",
              "    </tr>\n",
              "  </tbody>\n",
              "</table>\n",
              "<p>5 rows × 936 columns</p>\n",
              "</div>"
            ],
            "text/plain": [
              "         x1   x2        x3        x4        x5        x6        x7        x8  \\\n",
              "0  0.035103  0.0  0.013164 -0.048267 -0.008776 -0.017552 -0.035103 -0.263274   \n",
              "1  0.018006  0.0  0.013505 -0.022508  0.000000  0.000000  0.009003 -0.220578   \n",
              "2  0.082356  0.0  0.043600 -0.053289 -0.019378 -0.029067 -0.048444 -0.213156   \n",
              "3  0.056172  0.0  0.078641  0.044937  0.000000  0.022469  0.117961  0.101109   \n",
              "4  0.030150  0.0  0.030150 -0.005025 -0.005025  0.005025  0.045226 -0.120601   \n",
              "\n",
              "         x9       x10  ...      y459      y460      y461      y462      y463  \\\n",
              "0 -0.048267 -0.057043  ...  0.004388 -0.013164  0.004388  0.008776  0.017552   \n",
              "1  0.013505  0.009003  ...  0.013505  0.000000  0.031511  0.018006  0.027009   \n",
              "2 -0.072667 -0.092044  ... -0.009689 -0.029067 -0.033911  0.000000  0.000000   \n",
              "3  0.140429  0.134812  ...  0.022469  0.011234  0.044937  0.022469  0.033703   \n",
              "4  0.055276  0.050251  ...  0.020100  0.005025  0.040200  0.020100  0.035175   \n",
              "\n",
              "       y464      y465      y466      y467      y468  \n",
              "0 -0.245723 -0.232559 -0.223783 -0.302766 -0.311541  \n",
              "1 -0.207073 -0.198070 -0.198070 -0.229581 -0.238584  \n",
              "2 -0.285822 -0.266445 -0.251911 -0.373022 -0.392400  \n",
              "3 -0.219070 -0.207836 -0.202218 -0.247156 -0.264007  \n",
              "4 -0.201002 -0.190952 -0.185927 -0.216078 -0.231153  \n",
              "\n",
              "[5 rows x 936 columns]"
            ]
          },
          "execution_count": 21,
          "metadata": {},
          "output_type": "execute_result"
        }
      ],
      "source": [
        "x_test = pd.concat([point_x_df_test, point_y_df_test], axis= 1)\n",
        "x_test.head()"
      ]
    },
    {
      "attachments": {},
      "cell_type": "markdown",
      "metadata": {},
      "source": [
        "##### Get all the angles of the test images"
      ]
    },
    {
      "cell_type": "code",
      "execution_count": 22,
      "metadata": {},
      "outputs": [
        {
          "data": {
            "text/html": [
              "<div>\n",
              "<style scoped>\n",
              "    .dataframe tbody tr th:only-of-type {\n",
              "        vertical-align: middle;\n",
              "    }\n",
              "\n",
              "    .dataframe tbody tr th {\n",
              "        vertical-align: top;\n",
              "    }\n",
              "\n",
              "    .dataframe thead th {\n",
              "        text-align: right;\n",
              "    }\n",
              "</style>\n",
              "<table border=\"1\" class=\"dataframe\">\n",
              "  <thead>\n",
              "    <tr style=\"text-align: right;\">\n",
              "      <th></th>\n",
              "      <th>pitch</th>\n",
              "      <th>yaw</th>\n",
              "      <th>roll</th>\n",
              "    </tr>\n",
              "  </thead>\n",
              "  <tbody>\n",
              "    <tr>\n",
              "      <th>0</th>\n",
              "      <td>-0.026812</td>\n",
              "      <td>0.011965</td>\n",
              "      <td>-0.220662</td>\n",
              "    </tr>\n",
              "    <tr>\n",
              "      <th>1</th>\n",
              "      <td>0.057119</td>\n",
              "      <td>0.110732</td>\n",
              "      <td>-0.043283</td>\n",
              "    </tr>\n",
              "    <tr>\n",
              "      <th>2</th>\n",
              "      <td>-0.170780</td>\n",
              "      <td>0.383899</td>\n",
              "      <td>-0.436852</td>\n",
              "    </tr>\n",
              "    <tr>\n",
              "      <th>3</th>\n",
              "      <td>0.236453</td>\n",
              "      <td>1.250053</td>\n",
              "      <td>0.167051</td>\n",
              "    </tr>\n",
              "    <tr>\n",
              "      <th>4</th>\n",
              "      <td>0.032106</td>\n",
              "      <td>0.442191</td>\n",
              "      <td>0.003891</td>\n",
              "    </tr>\n",
              "  </tbody>\n",
              "</table>\n",
              "</div>"
            ],
            "text/plain": [
              "      pitch       yaw      roll\n",
              "0 -0.026812  0.011965 -0.220662\n",
              "1  0.057119  0.110732 -0.043283\n",
              "2 -0.170780  0.383899 -0.436852\n",
              "3  0.236453  1.250053  0.167051\n",
              "4  0.032106  0.442191  0.003891"
            ]
          },
          "execution_count": 22,
          "metadata": {},
          "output_type": "execute_result"
        }
      ],
      "source": [
        "pitch, yaw, roll= get_angles_from_dir(test_path)\n",
        "y_test= {'pitch': pitch, 'yaw': yaw, 'roll': roll}\n",
        "\n",
        "y_test= pd.DataFrame(y_test)\n",
        "y_test.head()"
      ]
    },
    {
      "attachments": {},
      "cell_type": "markdown",
      "metadata": {},
      "source": [
        "##### Calculate the base model Mean Squared Error"
      ]
    },
    {
      "cell_type": "code",
      "execution_count": 23,
      "metadata": {},
      "outputs": [
        {
          "data": {
            "text/plain": [
              "0.2899737842760222"
            ]
          },
          "execution_count": 23,
          "metadata": {},
          "output_type": "execute_result"
        }
      ],
      "source": [
        "pitch_mean= np.array(pitch).mean()\n",
        "yaw_mean= np.array(yaw).mean()\n",
        "roll_mean= np.array(roll).mean()\n",
        "base_model_pred= [[pitch_mean, yaw_mean, roll_mean]]*len(y_train)\n",
        "\n",
        "mean_absolute_error(y_train, base_model_pred)"
      ]
    },
    {
      "attachments": {},
      "cell_type": "markdown",
      "metadata": {},
      "source": [
        "##### Fit a Ridge model to the training data.\n",
        "##### We used Ridge as we have huge number of features that will cause linear regression parameters to be very high, but we want to keep it as possible close to zero. "
      ]
    },
    {
      "cell_type": "code",
      "execution_count": 24,
      "metadata": {},
      "outputs": [
        {
          "data": {
            "text/html": [
              "<style>#sk-container-id-1 {color: black;background-color: white;}#sk-container-id-1 pre{padding: 0;}#sk-container-id-1 div.sk-toggleable {background-color: white;}#sk-container-id-1 label.sk-toggleable__label {cursor: pointer;display: block;width: 100%;margin-bottom: 0;padding: 0.3em;box-sizing: border-box;text-align: center;}#sk-container-id-1 label.sk-toggleable__label-arrow:before {content: \"▸\";float: left;margin-right: 0.25em;color: #696969;}#sk-container-id-1 label.sk-toggleable__label-arrow:hover:before {color: black;}#sk-container-id-1 div.sk-estimator:hover label.sk-toggleable__label-arrow:before {color: black;}#sk-container-id-1 div.sk-toggleable__content {max-height: 0;max-width: 0;overflow: hidden;text-align: left;background-color: #f0f8ff;}#sk-container-id-1 div.sk-toggleable__content pre {margin: 0.2em;color: black;border-radius: 0.25em;background-color: #f0f8ff;}#sk-container-id-1 input.sk-toggleable__control:checked~div.sk-toggleable__content {max-height: 200px;max-width: 100%;overflow: auto;}#sk-container-id-1 input.sk-toggleable__control:checked~label.sk-toggleable__label-arrow:before {content: \"▾\";}#sk-container-id-1 div.sk-estimator input.sk-toggleable__control:checked~label.sk-toggleable__label {background-color: #d4ebff;}#sk-container-id-1 div.sk-label input.sk-toggleable__control:checked~label.sk-toggleable__label {background-color: #d4ebff;}#sk-container-id-1 input.sk-hidden--visually {border: 0;clip: rect(1px 1px 1px 1px);clip: rect(1px, 1px, 1px, 1px);height: 1px;margin: -1px;overflow: hidden;padding: 0;position: absolute;width: 1px;}#sk-container-id-1 div.sk-estimator {font-family: monospace;background-color: #f0f8ff;border: 1px dotted black;border-radius: 0.25em;box-sizing: border-box;margin-bottom: 0.5em;}#sk-container-id-1 div.sk-estimator:hover {background-color: #d4ebff;}#sk-container-id-1 div.sk-parallel-item::after {content: \"\";width: 100%;border-bottom: 1px solid gray;flex-grow: 1;}#sk-container-id-1 div.sk-label:hover label.sk-toggleable__label {background-color: #d4ebff;}#sk-container-id-1 div.sk-serial::before {content: \"\";position: absolute;border-left: 1px solid gray;box-sizing: border-box;top: 0;bottom: 0;left: 50%;z-index: 0;}#sk-container-id-1 div.sk-serial {display: flex;flex-direction: column;align-items: center;background-color: white;padding-right: 0.2em;padding-left: 0.2em;position: relative;}#sk-container-id-1 div.sk-item {position: relative;z-index: 1;}#sk-container-id-1 div.sk-parallel {display: flex;align-items: stretch;justify-content: center;background-color: white;position: relative;}#sk-container-id-1 div.sk-item::before, #sk-container-id-1 div.sk-parallel-item::before {content: \"\";position: absolute;border-left: 1px solid gray;box-sizing: border-box;top: 0;bottom: 0;left: 50%;z-index: -1;}#sk-container-id-1 div.sk-parallel-item {display: flex;flex-direction: column;z-index: 1;position: relative;background-color: white;}#sk-container-id-1 div.sk-parallel-item:first-child::after {align-self: flex-end;width: 50%;}#sk-container-id-1 div.sk-parallel-item:last-child::after {align-self: flex-start;width: 50%;}#sk-container-id-1 div.sk-parallel-item:only-child::after {width: 0;}#sk-container-id-1 div.sk-dashed-wrapped {border: 1px dashed gray;margin: 0 0.4em 0.5em 0.4em;box-sizing: border-box;padding-bottom: 0.4em;background-color: white;}#sk-container-id-1 div.sk-label label {font-family: monospace;font-weight: bold;display: inline-block;line-height: 1.2em;}#sk-container-id-1 div.sk-label-container {text-align: center;}#sk-container-id-1 div.sk-container {/* jupyter's `normalize.less` sets `[hidden] { display: none; }` but bootstrap.min.css set `[hidden] { display: none !important; }` so we also need the `!important` here to be able to override the default hidden behavior on the sphinx rendered scikit-learn.org. See: https://github.com/scikit-learn/scikit-learn/issues/21755 */display: inline-block !important;position: relative;}#sk-container-id-1 div.sk-text-repr-fallback {display: none;}</style><div id=\"sk-container-id-1\" class=\"sk-top-container\"><div class=\"sk-text-repr-fallback\"><pre>MultiOutputRegressor(estimator=Ridge())</pre><b>In a Jupyter environment, please rerun this cell to show the HTML representation or trust the notebook. <br />On GitHub, the HTML representation is unable to render, please try loading this page with nbviewer.org.</b></div><div class=\"sk-container\" hidden><div class=\"sk-item sk-dashed-wrapped\"><div class=\"sk-label-container\"><div class=\"sk-label sk-toggleable\"><input class=\"sk-toggleable__control sk-hidden--visually\" id=\"sk-estimator-id-1\" type=\"checkbox\" ><label for=\"sk-estimator-id-1\" class=\"sk-toggleable__label sk-toggleable__label-arrow\">MultiOutputRegressor</label><div class=\"sk-toggleable__content\"><pre>MultiOutputRegressor(estimator=Ridge())</pre></div></div></div><div class=\"sk-parallel\"><div class=\"sk-parallel-item\"><div class=\"sk-item\"><div class=\"sk-label-container\"><div class=\"sk-label sk-toggleable\"><input class=\"sk-toggleable__control sk-hidden--visually\" id=\"sk-estimator-id-2\" type=\"checkbox\" ><label for=\"sk-estimator-id-2\" class=\"sk-toggleable__label sk-toggleable__label-arrow\">estimator: Ridge</label><div class=\"sk-toggleable__content\"><pre>Ridge()</pre></div></div></div><div class=\"sk-serial\"><div class=\"sk-item\"><div class=\"sk-estimator sk-toggleable\"><input class=\"sk-toggleable__control sk-hidden--visually\" id=\"sk-estimator-id-3\" type=\"checkbox\" ><label for=\"sk-estimator-id-3\" class=\"sk-toggleable__label sk-toggleable__label-arrow\">Ridge</label><div class=\"sk-toggleable__content\"><pre>Ridge()</pre></div></div></div></div></div></div></div></div></div></div>"
            ],
            "text/plain": [
              "MultiOutputRegressor(estimator=Ridge())"
            ]
          },
          "execution_count": 24,
          "metadata": {},
          "output_type": "execute_result"
        }
      ],
      "source": [
        "regressor = MultiOutputRegressor(Ridge())\n",
        "\n",
        "regressor.fit(x_train, y_train)"
      ]
    },
    {
      "attachments": {},
      "cell_type": "markdown",
      "metadata": {},
      "source": [
        "##### Save the Ridge model"
      ]
    },
    {
      "cell_type": "code",
      "execution_count": 25,
      "metadata": {},
      "outputs": [
        {
          "data": {
            "text/plain": [
              "['Ridge_model.joblib']"
            ]
          },
          "execution_count": 25,
          "metadata": {},
          "output_type": "execute_result"
        }
      ],
      "source": [
        "dump(regressor, 'Ridge_model.joblib')"
      ]
    },
    {
      "attachments": {},
      "cell_type": "markdown",
      "metadata": {},
      "source": [
        "##### Calculate the MAE"
      ]
    },
    {
      "cell_type": "code",
      "execution_count": 26,
      "metadata": {},
      "outputs": [
        {
          "data": {
            "text/plain": [
              "0.09681402894367004"
            ]
          },
          "execution_count": 26,
          "metadata": {},
          "output_type": "execute_result"
        }
      ],
      "source": [
        "mean_absolute_error(y_test, regressor.predict(x_test))"
      ]
    },
    {
      "attachments": {},
      "cell_type": "markdown",
      "metadata": {},
      "source": [
        "##### Try SVR model and calculate the score"
      ]
    },
    {
      "cell_type": "code",
      "execution_count": 27,
      "metadata": {},
      "outputs": [
        {
          "data": {
            "text/plain": [
              "0.793425966372515"
            ]
          },
          "execution_count": 27,
          "metadata": {},
          "output_type": "execute_result"
        }
      ],
      "source": [
        "model = MultiOutputRegressor(SVR())\n",
        "scaler= MinMaxScaler()\n",
        "x_train= scaler.fit_transform(x_train)\n",
        "x_test= scaler.transform(x_test)\n",
        "model.fit(x_train, y_train)\n",
        "model.score(x_test, y_test)"
      ]
    },
    {
      "attachments": {},
      "cell_type": "markdown",
      "metadata": {},
      "source": [
        "##### Save the SVR model"
      ]
    },
    {
      "cell_type": "code",
      "execution_count": 28,
      "metadata": {},
      "outputs": [
        {
          "data": {
            "text/plain": [
              "['model.joblib']"
            ]
          },
          "execution_count": 28,
          "metadata": {},
          "output_type": "execute_result"
        }
      ],
      "source": [
        "dump(model, 'model.joblib')"
      ]
    },
    {
      "attachments": {},
      "cell_type": "markdown",
      "metadata": {},
      "source": [
        "##### Example on an image"
      ]
    },
    {
      "cell_type": "code",
      "execution_count": 9,
      "metadata": {},
      "outputs": [
        {
          "data": {
            "text/plain": [
              "(array([ 0.15143419,  0.53898616, -0.48071944]),\n",
              " array([197.29602635, 263.50791156]))"
            ]
          },
          "execution_count": 9,
          "metadata": {},
          "output_type": "execute_result"
        }
      ],
      "source": [
        "pred, nose= predict(img_path=r\"D:\\ITI\\ML supervised\\Head-Pose-Estimation-Using-ML-And-Mediapipe\\test\\image00099.jpg\")\n",
        "pred, nose"
      ]
    },
    {
      "attachments": {},
      "cell_type": "markdown",
      "metadata": {},
      "source": [
        "##### Save the predicted image"
      ]
    },
    {
      "cell_type": "code",
      "execution_count": 14,
      "metadata": {},
      "outputs": [
        {
          "data": {
            "text/plain": [
              "True"
            ]
          },
          "execution_count": 14,
          "metadata": {},
          "output_type": "execute_result"
        }
      ],
      "source": [
        "cv2.imwrite('frame11.jpg', draw_axis(cv2.imread(r\"D:\\ITI\\ML supervised\\Head-Pose-Estimation-Using-ML-And-Mediapipe\\test\\image00099.jpg\"), pred, nose[0], nose[1]))"
      ]
    },
    {
      "attachments": {},
      "cell_type": "markdown",
      "metadata": {},
      "source": [
        "##### Try the stream predector and the output is in the <strong style=\"color:red\">readme</strong> file"
      ]
    },
    {
      "cell_type": "code",
      "execution_count": 17,
      "metadata": {},
      "outputs": [
        {
          "name": "stdout",
          "output_type": "stream",
          "text": [
            "..................................................................................................................."
          ]
        }
      ],
      "source": [
        "stream_predict()"
      ]
    },
    {
      "attachments": {},
      "cell_type": "markdown",
      "metadata": {},
      "source": [
        "##### Try the video predector and the output is in the <strong style=\"color:red\">readme</strong> file"
      ]
    },
    {
      "cell_type": "code",
      "execution_count": 53,
      "metadata": {},
      "outputs": [
        {
          "name": "stdout",
          "output_type": "stream",
          "text": [
            "............................"
          ]
        }
      ],
      "source": [
        "video_predict(r\"D:\\ITI\\Head-Pose_estimation-Using-ML-And-Mediapipe\\video.mp4\")"
      ]
    }
  ],
  "metadata": {
    "colab": {
      "collapsed_sections": [],
      "name": "MediaPipe Helper Code.ipynb",
      "provenance": []
    },
    "kernelspec": {
      "display_name": "myenv",
      "language": "python",
      "name": "python3"
    },
    "language_info": {
      "codemirror_mode": {
        "name": "ipython",
        "version": 3
      },
      "file_extension": ".py",
      "mimetype": "text/x-python",
      "name": "python",
      "nbconvert_exporter": "python",
      "pygments_lexer": "ipython3",
      "version": "3.10.5"
    },
    "vscode": {
      "interpreter": {
        "hash": "1049b4d7a1e492dec9d52c77079cddd99dfe843ed79ede677d8fb79705dcdb3e"
      }
    }
  },
  "nbformat": 4,
  "nbformat_minor": 0
}
